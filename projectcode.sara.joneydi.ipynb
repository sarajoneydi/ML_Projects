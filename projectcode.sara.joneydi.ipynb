{
  "nbformat": 4,
  "nbformat_minor": 0,
  "metadata": {
    "colab": {
      "name": "Untitled23.ipynb",
      "provenance": [],
      "collapsed_sections": []
    },
    "kernelspec": {
      "name": "python3",
      "display_name": "Python 3"
    }
  },
  "cells": [
    {
      "cell_type": "code",
      "metadata": {
        "id": "FiuPolXasY_e"
      },
      "source": [
        "## Project Implementation-- Sara Joneydi\r\n",
        "import numpy as np\r\n",
        "import pandas as pd\r\n",
        "import datetime as dt\r\n",
        "import sklearn\r\n",
        "from scipy import stats\r\n",
        "from sklearn import preprocessing\r\n",
        "from sklearn.model_selection import GridSearchCV\r\n",
        "from sklearn.ensemble import RandomForestClassifier\r\n",
        "from sklearn.ensemble import AdaBoostClassifier\r\n",
        "from sklearn.model_selection import train_test_split\r\n",
        "from sklearn.metrics import recall_score as rs\r\n",
        "from sklearn.metrics import precision_score as ps\r\n",
        "from sklearn.metrics import f1_score as fs\r\n",
        "from sklearn.metrics import log_loss\r\n",
        "\r\n",
        "encoder = preprocessing.LabelEncoder()"
      ],
      "execution_count": 78,
      "outputs": []
    },
    {
      "cell_type": "code",
      "metadata": {
        "id": "umMYGIU_sjYi"
      },
      "source": [
        "## Data Pre processing:\r\n",
        "data = pd.read_csv('data.csv')\r\n",
        "data = data.drop('id',axis=1)\r\n",
        "data = data.fillna(np.nan,axis=0)\r\n",
        "data['location'] = encoder.fit_transform(data['location'].astype(str))\r\n",
        "data['country'] = encoder.fit_transform(data['country'].astype(str))\r\n",
        "data['gender'] = encoder.fit_transform(data['gender'].astype(str))\r\n",
        "data[['symptom1']] = encoder.fit_transform(data['symptom1'].astype(str))\r\n",
        "data[['symptom2']] = encoder.fit_transform(data['symptom2'].astype(str))\r\n",
        "data[['symptom3']] = encoder.fit_transform(data['symptom3'].astype(str))\r\n",
        "data[['symptom4']] = encoder.fit_transform(data['symptom4'].astype(str))\r\n",
        "data[['symptom5']] = encoder.fit_transform(data['symptom5'].astype(str))\r\n",
        "data[['symptom6']] = encoder.fit_transform(data['symptom6'].astype(str))"
      ],
      "execution_count": 79,
      "outputs": []
    },
    {
      "cell_type": "code",
      "metadata": {
        "id": "9f1RVMGSsjd5"
      },
      "source": [
        "data['sym_on'] = pd.to_datetime(data['sym_on'])\r\n",
        "data['hosp_vis'] = pd.to_datetime(data['hosp_vis'])\r\n",
        "data['sym_on']= data['sym_on'].map(dt.datetime.toordinal)\r\n",
        "data['hosp_vis']= data['hosp_vis'].map(dt.datetime.toordinal)\r\n",
        "data['diff_sym_hos']= data['hosp_vis'] - data['sym_on']"
      ],
      "execution_count": 80,
      "outputs": []
    },
    {
      "cell_type": "code",
      "metadata": {
        "id": "AGDJoq8SsjgM"
      },
      "source": [
        "data['diff_symp_hos'] = data['hosp_vis']-data['sym_on']"
      ],
      "execution_count": 81,
      "outputs": []
    },
    {
      "cell_type": "code",
      "metadata": {
        "id": "JtxxdwWDsjjB"
      },
      "source": [
        "data = data.drop(['sym_on','hosp_vis'],axis=1)"
      ],
      "execution_count": 82,
      "outputs": []
    },
    {
      "cell_type": "code",
      "metadata": {
        "colab": {
          "base_uri": "https://localhost:8080/"
        },
        "id": "7ZTp3xIKsjlh",
        "outputId": "bb3eada5-a444-45f2-8d14-549d4cc93b7a"
      },
      "source": [
        "print(data.dtypes)"
      ],
      "execution_count": 83,
      "outputs": [
        {
          "output_type": "stream",
          "text": [
            "location           int64\n",
            "country            int64\n",
            "gender             int64\n",
            "age              float64\n",
            "vis_wuhan          int64\n",
            "from_wuhan       float64\n",
            "death              int64\n",
            "recov              int64\n",
            "symptom1           int64\n",
            "symptom2           int64\n",
            "symptom3           int64\n",
            "symptom4           int64\n",
            "symptom5           int64\n",
            "symptom6           int64\n",
            "diff_sym_hos       int64\n",
            "diff_symp_hos      int64\n",
            "dtype: object\n"
          ],
          "name": "stdout"
        }
      ]
    },
    {
      "cell_type": "code",
      "metadata": {
        "colab": {
          "base_uri": "https://localhost:8080/"
        },
        "id": "hNvWdeihsjn8",
        "outputId": "bb61017d-95d4-4880-8e23-ea04750c226e"
      },
      "source": [
        "## Pre Processing Train Data for Training:\r\n",
        "tdata = pd.read_csv('train.csv')\r\n",
        "print(tdata.head())"
      ],
      "execution_count": 84,
      "outputs": [
        {
          "output_type": "stream",
          "text": [
            "   id      location country gender  ...  symptom3 symptom4 symptom5  symptom6\n",
            "0  49  Wuhan, Hubei   China   male  ...       NaN      NaN      NaN       NaN\n",
            "1  50  Wuhan, Hubei   China   male  ...       NaN      NaN      NaN       NaN\n",
            "2  51  Wuhan, Hubei   China   male  ...       NaN      NaN      NaN       NaN\n",
            "3  52  Wuhan, Hubei   China   male  ...       NaN      NaN      NaN       NaN\n",
            "4  53  Wuhan, Hubei   China   male  ...       NaN      NaN      NaN       NaN\n",
            "\n",
            "[5 rows x 16 columns]\n"
          ],
          "name": "stdout"
        }
      ]
    },
    {
      "cell_type": "code",
      "metadata": {
        "id": "s-qp_Si8sjqe"
      },
      "source": [
        "tdata = pd.read_csv('train.csv')\r\n",
        "tdata = tdata.drop('id',axis=1)\r\n",
        "tdata = tdata.fillna(np.nan,axis=0)\r\n",
        "tdata['age'] = tdata['age'].fillna(value=tdata['age'].mean())\r\n",
        "tdata['location'] = encoder.fit_transform(tdata['location'].astype(str))\r\n",
        "tdata['country'] = encoder.fit_transform(tdata['country'].astype(str))\r\n",
        "tdata['gender'] = encoder.fit_transform(tdata['gender'].astype(str))\r\n",
        "tdata[['symptom1']] = encoder.fit_transform(tdata['symptom1'].astype(str))\r\n",
        "tdata[['symptom2']] = encoder.fit_transform(tdata['symptom2'].astype(str))\r\n",
        "tdata[['symptom3']] = encoder.fit_transform(tdata['symptom3'].astype(str))\r\n",
        "tdata[['symptom4']] = encoder.fit_transform(tdata['symptom4'].astype(str))\r\n",
        "tdata[['symptom5']] = encoder.fit_transform(tdata['symptom5'].astype(str))\r\n",
        "tdata[['symptom6']] = encoder.fit_transform(tdata['symptom6'].astype(str))"
      ],
      "execution_count": 85,
      "outputs": []
    },
    {
      "cell_type": "code",
      "metadata": {
        "id": "f56z_SdmsjtO"
      },
      "source": [
        "tdata['sym_on'] = pd.to_datetime(tdata['sym_on'])\r\n",
        "tdata['hosp_vis'] = pd.to_datetime(tdata['hosp_vis'])\r\n",
        "tdata['sym_on']= tdata['sym_on'].map(dt.datetime.toordinal)\r\n",
        "tdata['hosp_vis']= tdata['hosp_vis'].map(dt.datetime.toordinal)\r\n",
        "tdata['diff_sym_hos']= tdata['hosp_vis'] - tdata['sym_on']"
      ],
      "execution_count": 86,
      "outputs": []
    },
    {
      "cell_type": "code",
      "metadata": {
        "colab": {
          "base_uri": "https://localhost:8080/"
        },
        "id": "3IMgfrANsjwC",
        "outputId": "a8b68518-354f-4bf1-8d97-768e80cdd956"
      },
      "source": [
        "tdata = tdata.drop(['sym_on','hosp_vis'],axis=1)\r\n",
        "print(tdata)"
      ],
      "execution_count": 87,
      "outputs": [
        {
          "output_type": "stream",
          "text": [
            "     location  country  gender  ...  symptom5  symptom6  diff_sym_hos\n",
            "0          38        2       1  ...         0         0             7\n",
            "1          38        2       1  ...         0         0             4\n",
            "2          38        2       1  ...         0         0             0\n",
            "3          38        2       1  ...         0         0             0\n",
            "4          38        2       1  ...         0         0             6\n",
            "..        ...      ...     ...  ...       ...       ...           ...\n",
            "217         2        3       2  ...         0         0             0\n",
            "218        22        6       2  ...         0         0             0\n",
            "219        22        6       2  ...         0         0             0\n",
            "220        22        6       2  ...         0         0             0\n",
            "221        22        6       2  ...         0         0             0\n",
            "\n",
            "[222 rows x 14 columns]\n"
          ],
          "name": "stdout"
        }
      ]
    },
    {
      "cell_type": "code",
      "metadata": {
        "colab": {
          "base_uri": "https://localhost:8080/"
        },
        "id": "Qp30XZintWU6",
        "outputId": "2c3e57ee-267c-4903-fb8b-b0cf6b1a20ff"
      },
      "source": [
        "print(tdata.isna().sum())"
      ],
      "execution_count": 88,
      "outputs": [
        {
          "output_type": "stream",
          "text": [
            "location        0\n",
            "country         0\n",
            "gender          0\n",
            "age             0\n",
            "vis_wuhan       0\n",
            "from_wuhan      0\n",
            "death           0\n",
            "symptom1        0\n",
            "symptom2        0\n",
            "symptom3        0\n",
            "symptom4        0\n",
            "symptom5        0\n",
            "symptom6        0\n",
            "diff_sym_hos    0\n",
            "dtype: int64\n"
          ],
          "name": "stdout"
        }
      ]
    },
    {
      "cell_type": "code",
      "metadata": {
        "id": "3tdWq13AtWX5"
      },
      "source": [
        "## import Evaluation Metrics:\r\n",
        "\r\n",
        "from sklearn.metrics import recall_score as rs\r\n",
        "from sklearn.metrics import precision_score as ps\r\n",
        "from sklearn.metrics import f1_score as fs\r\n",
        "from sklearn.metrics import balanced_accuracy_score as bas\r\n",
        "from sklearn.metrics import confusion_matrix as cm"
      ],
      "execution_count": 89,
      "outputs": []
    },
    {
      "cell_type": "code",
      "metadata": {
        "id": "c495IZqFtWbH"
      },
      "source": [
        "## Logistic Regression:\r\n",
        "from sklearn.linear_model import LogisticRegression as lr\r\n",
        "\r\n",
        "classifier = lr()"
      ],
      "execution_count": 90,
      "outputs": []
    },
    {
      "cell_type": "code",
      "metadata": {
        "id": "uy-TkovetWdz"
      },
      "source": [
        "X = tdata[['location','country','gender','age','vis_wuhan','from_wuhan','symptom1',\r\n",
        "           'symptom2','symptom3','symptom4','symptom5','symptom6','diff_sym_hos']]\r\n",
        "Y = tdata['death']"
      ],
      "execution_count": 91,
      "outputs": []
    },
    {
      "cell_type": "code",
      "metadata": {
        "colab": {
          "base_uri": "https://localhost:8080/"
        },
        "id": "tq6MNnnTtWgV",
        "outputId": "e686a612-035a-4482-b3c5-49d915c22a61"
      },
      "source": [
        "X_train, X_test, Y_train, Y_test = train_test_split(X,Y,test_size=0.2,random_state=10)\r\n",
        "classifier.fit(X_train,np.array(Y_train).reshape(Y_train.shape[0],1))"
      ],
      "execution_count": 92,
      "outputs": [
        {
          "output_type": "stream",
          "text": [
            "/usr/local/lib/python3.6/dist-packages/sklearn/utils/validation.py:760: DataConversionWarning: A column-vector y was passed when a 1d array was expected. Please change the shape of y to (n_samples, ), for example using ravel().\n",
            "  y = column_or_1d(y, warn=True)\n",
            "/usr/local/lib/python3.6/dist-packages/sklearn/linear_model/_logistic.py:940: ConvergenceWarning: lbfgs failed to converge (status=1):\n",
            "STOP: TOTAL NO. of ITERATIONS REACHED LIMIT.\n",
            "\n",
            "Increase the number of iterations (max_iter) or scale the data as shown in:\n",
            "    https://scikit-learn.org/stable/modules/preprocessing.html\n",
            "Please also refer to the documentation for alternative solver options:\n",
            "    https://scikit-learn.org/stable/modules/linear_model.html#logistic-regression\n",
            "  extra_warning_msg=_LOGISTIC_SOLVER_CONVERGENCE_MSG)\n"
          ],
          "name": "stderr"
        },
        {
          "output_type": "execute_result",
          "data": {
            "text/plain": [
              "LogisticRegression(C=1.0, class_weight=None, dual=False, fit_intercept=True,\n",
              "                   intercept_scaling=1, l1_ratio=None, max_iter=100,\n",
              "                   multi_class='auto', n_jobs=None, penalty='l2',\n",
              "                   random_state=None, solver='lbfgs', tol=0.0001, verbose=0,\n",
              "                   warm_start=False)"
            ]
          },
          "metadata": {
            "tags": []
          },
          "execution_count": 92
        }
      ]
    },
    {
      "cell_type": "code",
      "metadata": {
        "id": "jWULdwi9tWis"
      },
      "source": [
        "## Evaluation of the Model:\r\n",
        "\r\n",
        "pred = np.array(classifier.predict(X_test))\r\n",
        "recall_lr = rs(Y_test,pred)\r\n",
        "precision_lr = ps(Y_test,pred)\r\n",
        "f1_lr = fs(Y_test,pred)\r\n",
        "ma_lr = classifier.score(X_test,Y_test)"
      ],
      "execution_count": 93,
      "outputs": []
    },
    {
      "cell_type": "code",
      "metadata": {
        "colab": {
          "base_uri": "https://localhost:8080/"
        },
        "id": "LiAk3BIMtWls",
        "outputId": "9f0ab438-7806-4901-cd8b-ebd82542246e"
      },
      "source": [
        "print('*** Evaluation metrics for test dataset ***\\n')\r\n",
        "print('Recall Score: ',recall_lr)\r\n",
        "print('Precision Score: ',precision_lr)\r\n",
        "print('F1 Score: ',f1_lr)\r\n",
        "print('Accuracy: ',ma_lr)\r\n",
        "a = pd.DataFrame(Y_test)\r\n",
        "a['pred']= classifier.predict(X_test)\r\n",
        "print('\\n\\tTable \\n')\r\n",
        "print(a.head())"
      ],
      "execution_count": 94,
      "outputs": [
        {
          "output_type": "stream",
          "text": [
            "*** Evaluation metrics for test dataset ***\n",
            "\n",
            "Recall Score:  0.7272727272727273\n",
            "Precision Score:  0.6666666666666666\n",
            "F1 Score:  0.6956521739130435\n",
            "Accuracy:  0.8444444444444444\n",
            "\n",
            "\tTable \n",
            "\n",
            "     death  pred\n",
            "184      0     0\n",
            "170      1     0\n",
            "142      0     0\n",
            "182      0     0\n",
            "49       1     1\n"
          ],
          "name": "stdout"
        }
      ]
    },
    {
      "cell_type": "code",
      "metadata": {
        "colab": {
          "base_uri": "https://localhost:8080/",
          "height": 299
        },
        "id": "kOY_m6Gkt5bi",
        "outputId": "737c303e-9ff9-4c8b-b442-bca3c5d42c74"
      },
      "source": [
        "import matplotlib.pyplot as plt\r\n",
        "\r\n",
        "plt.bar(['Accuracy','F1 Score','Recall Score','Precision Score'],\r\n",
        "        [ma_lr,f1_lr,recall_lr,precision_lr],color=['red','Blue','green','Yellow'])\r\n",
        "plt.plot([ma_lr,f1_lr,recall_lr,precision_lr],color='black')\r\n",
        "plt.title('Evaluation Metrics for Logistic Regression')"
      ],
      "execution_count": 95,
      "outputs": [
        {
          "output_type": "execute_result",
          "data": {
            "text/plain": [
              "Text(0.5, 1.0, 'Evaluation Metrics for Logistic Regression')"
            ]
          },
          "metadata": {
            "tags": []
          },
          "execution_count": 95
        },
        {
          "output_type": "display_data",
          "data": {
            "image/png": "[encoded data removed]",
            "text/plain": [
              "<Figure size 432x288 with 1 Axes>"
            ]
          },
          "metadata": {
            "tags": [],
            "needs_background": "light"
          }
        }
      ]
    },
    {
      "cell_type": "code",
      "metadata": {
        "colab": {
          "base_uri": "https://localhost:8080/"
        },
        "id": "X3nUsS5tt5eQ",
        "outputId": "2a8a9905-2071-4309-c69a-d0713c0dd9a1"
      },
      "source": [
        "print(pd.DataFrame({'Val':Y_test,'Pred':classifier.predict(X_test)}))"
      ],
      "execution_count": 19,
      "outputs": [
        {
          "output_type": "stream",
          "text": [
            "     Val  Pred\n",
            "184    0     0\n",
            "170    1     0\n",
            "142    0     0\n",
            "182    0     0\n",
            "49     1     1\n",
            "117    0     0\n",
            "63     1     0\n",
            "144    0     0\n",
            "35     1     1\n",
            "101    0     0\n",
            "24     1     1\n",
            "200    0     0\n",
            "129    0     0\n",
            "26     1     1\n",
            "116    0     0\n",
            "76     0     0\n",
            "99     0     0\n",
            "47     1     1\n",
            "70     0     0\n",
            "121    0     0\n",
            "146    0     0\n",
            "220    1     1\n",
            "60     0     1\n",
            "188    0     0\n",
            "19     1     0\n",
            "98     0     0\n",
            "87     0     0\n",
            "68     0     0\n",
            "131    0     0\n",
            "194    0     1\n",
            "197    0     0\n",
            "195    0     0\n",
            "166    0     0\n",
            "78     0     0\n",
            "59     0     1\n",
            "187    0     0\n",
            "58     0     1\n",
            "148    0     0\n",
            "20     1     1\n",
            "127    0     0\n",
            "5      1     1\n",
            "83     0     0\n",
            "69     0     0\n",
            "160    0     0\n",
            "95     0     0\n"
          ],
          "name": "stdout"
        }
      ]
    },
    {
      "cell_type": "code",
      "metadata": {
        "id": "Mr1FbD-Nt5hG"
      },
      "source": [
        "## Decision Tree Classifier:\r\n",
        "\r\n",
        "from sklearn.tree import DecisionTreeClassifier as dtc\r\n",
        "classifier = dtc(max_depth=2)"
      ],
      "execution_count": 96,
      "outputs": []
    },
    {
      "cell_type": "code",
      "metadata": {
        "id": "NZ3zX6uwt5j_"
      },
      "source": [
        "X = tdata[['location','country','gender','age','vis_wuhan','from_wuhan',\r\n",
        "           'symptom1','symptom2','symptom3','symptom4','symptom5','symptom6','diff_sym_hos']]\r\n",
        "Y = tdata['death']"
      ],
      "execution_count": 97,
      "outputs": []
    },
    {
      "cell_type": "code",
      "metadata": {
        "colab": {
          "base_uri": "https://localhost:8080/"
        },
        "id": "4utRdvbmt5mv",
        "outputId": "365fccbc-20fa-4a74-bb95-cf63f90fa348"
      },
      "source": [
        "X_train, X_test, Y_train, Y_test = train_test_split(X,Y,test_size=0.2,random_state=10)\r\n",
        "classifier.fit(X_train,np.array(Y_train).reshape(Y_train.shape[0],1))"
      ],
      "execution_count": 98,
      "outputs": [
        {
          "output_type": "execute_result",
          "data": {
            "text/plain": [
              "DecisionTreeClassifier(ccp_alpha=0.0, class_weight=None, criterion='gini',\n",
              "                       max_depth=2, max_features=None, max_leaf_nodes=None,\n",
              "                       min_impurity_decrease=0.0, min_impurity_split=None,\n",
              "                       min_samples_leaf=1, min_samples_split=2,\n",
              "                       min_weight_fraction_leaf=0.0, presort='deprecated',\n",
              "                       random_state=None, splitter='best')"
            ]
          },
          "metadata": {
            "tags": []
          },
          "execution_count": 98
        }
      ]
    },
    {
      "cell_type": "code",
      "metadata": {
        "id": "8ioW-qNWuWZO"
      },
      "source": [
        "## Evaluation of the Model:\r\n",
        "\r\n",
        "pred = np.array(classifier.predict(X_test))\r\n",
        "\r\n",
        "recall_dtc = rs(Y_test,pred)\r\n",
        "precision_dtc = ps(Y_test,pred)\r\n",
        "f1_dtc = fs(Y_test,pred)\r\n",
        "ma_dtc = classifier.score(X_test,Y_test)"
      ],
      "execution_count": 99,
      "outputs": []
    },
    {
      "cell_type": "code",
      "metadata": {
        "colab": {
          "base_uri": "https://localhost:8080/"
        },
        "id": "wuc8_APNuWb3",
        "outputId": "6b728fa5-06f5-4f4f-83e9-5b8d0bac804c"
      },
      "source": [
        "print('*** Evaluation metrics for test dataset ***\\n')\r\n",
        "print('Recall Score: ',recall_dtc)\r\n",
        "print('Precision Score: ',precision_dtc)\r\n",
        "print('F1 Score: ',f1_dtc)\r\n",
        "print('Accuracy: ',ma_dtc)\r\n",
        "a = pd.DataFrame(Y_test)\r\n",
        "a['pred']= classifier.predict(X_test)\r\n",
        "print('\\n\\tTable \\n')\r\n",
        "print(a.head())"
      ],
      "execution_count": 100,
      "outputs": [
        {
          "output_type": "stream",
          "text": [
            "*** Evaluation metrics for test dataset ***\n",
            "\n",
            "Recall Score:  0.5454545454545454\n",
            "Precision Score:  0.8571428571428571\n",
            "F1 Score:  0.6666666666666665\n",
            "Accuracy:  0.8666666666666667\n",
            "\n",
            "\tTable \n",
            "\n",
            "     death  pred\n",
            "184      0     0\n",
            "170      1     0\n",
            "142      0     0\n",
            "182      0     0\n",
            "49       1     0\n"
          ],
          "name": "stdout"
        }
      ]
    },
    {
      "cell_type": "code",
      "metadata": {
        "colab": {
          "base_uri": "https://localhost:8080/",
          "height": 299
        },
        "id": "kqJveFkjuWen",
        "outputId": "b5afb0d6-57e0-4c37-9c18-99863278f539"
      },
      "source": [
        "import matplotlib.pyplot as plt\r\n",
        "\r\n",
        "plt.bar(['Accuracy','F1 Score','Recall Score','Precision Score'],[ma_dtc,f1_dtc,recall_dtc,precision_dtc],color=['red','Blue','green','Yellow'])\r\n",
        "plt.plot([ma_dtc,f1_dtc,recall_dtc,precision_dtc],color='black')\r\n",
        "plt.title('Evaluation Metrics for Decision Tree')"
      ],
      "execution_count": 102,
      "outputs": [
        {
          "output_type": "execute_result",
          "data": {
            "text/plain": [
              "Text(0.5, 1.0, 'Evaluation Metrics for Decision Tree')"
            ]
          },
          "metadata": {
            "tags": []
          },
          "execution_count": 102
        },
        {
          "output_type": "display_data",
          "data": {
            "image/png": "[encoded data removed]",
            "text/plain": [
              "<Figure size 432x288 with 1 Axes>"
            ]
          },
          "metadata": {
            "tags": [],
            "needs_background": "light"
          }
        }
      ]
    },
    {
      "cell_type": "code",
      "metadata": {
        "colab": {
          "base_uri": "https://localhost:8080/",
          "height": 274
        },
        "id": "HOacc28IuWhc",
        "outputId": "5cfc17fd-138c-44f5-8515-017e4d703112"
      },
      "source": [
        "## Decision Tree Visualization:\r\n",
        "\r\n",
        "classifier.fit(X_train,np.array(Y_train).reshape(Y_train.shape[0],1))\r\n",
        "from sklearn.externals.six import StringIO  \r\n",
        "from IPython.display import Image  \r\n",
        "from sklearn.tree import export_graphviz\r\n",
        "import pydotplus\r\n",
        "\r\n",
        "estimator = classifier\r\n",
        "dot_data = StringIO()\r\n",
        "export_graphviz(estimator, out_file=dot_data,  \r\n",
        "                filled=True, rounded=True,\r\n",
        "                special_characters=True)\r\n",
        "graph = pydotplus.graph_from_dot_data(dot_data.getvalue())  \r\n",
        "Image(graph.create_png(),width=250,height=200)"
      ],
      "execution_count": 26,
      "outputs": [
        {
          "output_type": "stream",
          "text": [
            "/usr/local/lib/python3.6/dist-packages/sklearn/externals/six.py:31: FutureWarning: The module is deprecated in version 0.21 and will be removed in version 0.23 since we've dropped support for Python 2.7. Please rely on the official version of six (https://pypi.org/project/six/).\n",
            "  \"(https://pypi.org/project/six/).\", FutureWarning)\n"
          ],
          "name": "stderr"
        },
        {
          "output_type": "execute_result",
          "data": {
            "image/png": "[encoded data removed]",
            "text/plain": [
              "<IPython.core.display.Image object>"
            ]
          },
          "metadata": {
            "tags": [],
            "image/png": {
              "width": 250,
              "height": 200
            }
          },
          "execution_count": 26
        }
      ]
    },
    {
      "cell_type": "code",
      "metadata": {
        "id": "LgtkZ7jouWkM"
      },
      "source": [
        "## SVM Classifier:\r\n",
        "\r\n",
        "from sklearn import svm\r\n",
        "classifier = svm.SVC()"
      ],
      "execution_count": 103,
      "outputs": []
    },
    {
      "cell_type": "code",
      "metadata": {
        "id": "VzcOxrjhuWms"
      },
      "source": [
        "X = tdata[['location','country','gender','age','vis_wuhan','from_wuhan',\r\n",
        "           'symptom1','symptom2','symptom3','symptom4','symptom5','symptom6','diff_sym_hos']]\r\n",
        "Y = tdata['death']"
      ],
      "execution_count": 104,
      "outputs": []
    },
    {
      "cell_type": "code",
      "metadata": {
        "colab": {
          "base_uri": "https://localhost:8080/"
        },
        "id": "8QlpClcQuWpv",
        "outputId": "0bf77c5e-c5a4-4921-b424-c8c12ea3cd35"
      },
      "source": [
        "X_train, X_test, Y_train, Y_test = train_test_split(X,Y,test_size=0.2,random_state=10)\r\n",
        "classifier.fit(X_train,np.array(Y_train).reshape(Y_train.shape[0],1))"
      ],
      "execution_count": 105,
      "outputs": [
        {
          "output_type": "stream",
          "text": [
            "/usr/local/lib/python3.6/dist-packages/sklearn/utils/validation.py:760: DataConversionWarning: A column-vector y was passed when a 1d array was expected. Please change the shape of y to (n_samples, ), for example using ravel().\n",
            "  y = column_or_1d(y, warn=True)\n"
          ],
          "name": "stderr"
        },
        {
          "output_type": "execute_result",
          "data": {
            "text/plain": [
              "SVC(C=1.0, break_ties=False, cache_size=200, class_weight=None, coef0=0.0,\n",
              "    decision_function_shape='ovr', degree=3, gamma='scale', kernel='rbf',\n",
              "    max_iter=-1, probability=False, random_state=None, shrinking=True,\n",
              "    tol=0.001, verbose=False)"
            ]
          },
          "metadata": {
            "tags": []
          },
          "execution_count": 105
        }
      ]
    },
    {
      "cell_type": "code",
      "metadata": {
        "id": "M44YrxMMvDzo"
      },
      "source": [
        "## Evaluation of the Model:\r\n",
        "\r\n",
        "pred = np.array(classifier.predict(X_test))\r\n",
        "\r\n",
        "recall_svm = rs(Y_test,pred)\r\n",
        "precision_svm = ps(Y_test,pred)\r\n",
        "f1_svm = fs(Y_test,pred)\r\n",
        "ma_svm = classifier.score(X_test,Y_test)"
      ],
      "execution_count": 30,
      "outputs": []
    },
    {
      "cell_type": "code",
      "metadata": {
        "colab": {
          "base_uri": "https://localhost:8080/"
        },
        "id": "rruZssG3vD2Y",
        "outputId": "aa2ba62e-0a7b-409d-9477-e60d712b33b3"
      },
      "source": [
        "print('*** Evaluation metrics for test dataset ***\\n')\r\n",
        "print('Recall Score: ',recall_svm)\r\n",
        "print('Precision Score: ',precision_svm)\r\n",
        "print('F1 Score: ',f1_svm)\r\n",
        "print('Accuracy: ',ma_svm)\r\n",
        "a = pd.DataFrame(Y_test)\r\n",
        "a['pred']= classifier.predict(X_test)\r\n",
        "print('\\n\\tTable \\n')\r\n",
        "print(a.head())"
      ],
      "execution_count": 106,
      "outputs": [
        {
          "output_type": "stream",
          "text": [
            "*** Evaluation metrics for test dataset ***\n",
            "\n",
            "Recall Score:  0.6363636363636364\n",
            "Precision Score:  0.7\n",
            "F1 Score:  0.6666666666666666\n",
            "Accuracy:  0.8444444444444444\n",
            "\n",
            "\tTable \n",
            "\n",
            "     death  pred\n",
            "184      0     0\n",
            "170      1     0\n",
            "142      0     0\n",
            "182      0     0\n",
            "49       1     1\n"
          ],
          "name": "stdout"
        }
      ]
    },
    {
      "cell_type": "code",
      "metadata": {
        "colab": {
          "base_uri": "https://localhost:8080/",
          "height": 299
        },
        "id": "j5qobg9ZvD5K",
        "outputId": "068576a5-c7de-4372-82d2-505cb3fac17e"
      },
      "source": [
        "import matplotlib.pyplot as plt\r\n",
        "\r\n",
        "plt.bar(['Accuracy','F1 Score','Recall Score','Precision Score'],\r\n",
        "        [ma_svm,f1_svm,recall_svm,precision_svm],color=['red','Blue','green','Yellow'])\r\n",
        "plt.plot([ma_svm,f1_svm,recall_svm,precision_svm],color='black')\r\n",
        "plt.title('Evaluation Metrics for Support Vector Machine')"
      ],
      "execution_count": 112,
      "outputs": [
        {
          "output_type": "execute_result",
          "data": {
            "text/plain": [
              "Text(0.5, 1.0, 'Evaluation Metrics for Support Vector Machine')"
            ]
          },
          "metadata": {
            "tags": []
          },
          "execution_count": 112
        },
        {
          "output_type": "display_data",
          "data": {
            "image/png": "[encoded data removed]",
            "text/plain": [
              "<Figure size 432x288 with 1 Axes>"
            ]
          },
          "metadata": {
            "tags": [],
            "needs_background": "light"
          }
        }
      ]
    },
    {
      "cell_type": "code",
      "metadata": {
        "id": "RCvK7idfvD8O"
      },
      "source": [
        "## Gaussian Naive Bayes:\r\n",
        "\r\n",
        "from sklearn.naive_bayes import GaussianNB\r\n",
        "classifier = GaussianNB()"
      ],
      "execution_count": 107,
      "outputs": []
    },
    {
      "cell_type": "code",
      "metadata": {
        "id": "XCBzjiVZvD-v"
      },
      "source": [
        "X = tdata[['location','country','gender','age','vis_wuhan',\r\n",
        "           'from_wuhan','symptom1','symptom2','symptom3','symptom4','symptom5','symptom6','diff_sym_hos']]\r\n",
        "Y = tdata['death']"
      ],
      "execution_count": 108,
      "outputs": []
    },
    {
      "cell_type": "code",
      "metadata": {
        "id": "j5Hwx5JtvEBd"
      },
      "source": [
        "X_train, X_test, Y_train, Y_test = train_test_split(X,Y,test_size=0.2,random_state=10)\r\n",
        "classifier.fit(X_train,np.array(Y_train).reshape(Y_train.shape[0],1))"
      ],
      "execution_count": null,
      "outputs": []
    },
    {
      "cell_type": "code",
      "metadata": {
        "id": "9RmmJ2n9vEEn"
      },
      "source": [
        "## Evaluation of the Model:\r\n",
        "\r\n",
        "pred = np.array(classifier.predict(X_test))\r\n",
        "\r\n",
        "recall_gnb = rs(Y_test,pred)\r\n",
        "precision_gnb = ps(Y_test,pred)\r\n",
        "f1_gnb = fs(Y_test,pred)\r\n",
        "ma_gnb = classifier.score(X_test,Y_test)"
      ],
      "execution_count": 110,
      "outputs": []
    },
    {
      "cell_type": "code",
      "metadata": {
        "colab": {
          "base_uri": "https://localhost:8080/"
        },
        "id": "K7a3Gyo9vuLr",
        "outputId": "9a0df3c2-3d94-4f91-9017-d603fe4cb9b7"
      },
      "source": [
        "print('*** Evaluation metrics for test dataset ***\\n')\r\n",
        "print('Recall Score: ',recall_gnb)\r\n",
        "print('Precision Score: ',precision_gnb)\r\n",
        "print('F1 Score: ',f1_gnb)\r\n",
        "print('Accuracy: ',ma_gnb)\r\n",
        "a = pd.DataFrame(Y_test)\r\n",
        "a['pred']= classifier.predict(X_test)\r\n",
        "print('\\n\\tTable \\n')\r\n",
        "print(a.head())"
      ],
      "execution_count": 113,
      "outputs": [
        {
          "output_type": "stream",
          "text": [
            "*** Evaluation metrics for test dataset ***\n",
            "\n",
            "Recall Score:  0.7272727272727273\n",
            "Precision Score:  0.5333333333333333\n",
            "F1 Score:  0.6153846153846153\n",
            "Accuracy:  0.7777777777777778\n",
            "\n",
            "\tTable \n",
            "\n",
            "     death  pred\n",
            "184      0     0\n",
            "170      1     0\n",
            "142      0     0\n",
            "182      0     0\n",
            "49       1     1\n"
          ],
          "name": "stdout"
        }
      ]
    },
    {
      "cell_type": "code",
      "metadata": {
        "colab": {
          "base_uri": "https://localhost:8080/",
          "height": 299
        },
        "id": "WDSXOR25vuNu",
        "outputId": "29871af3-8e86-46b3-dc27-e98398880588"
      },
      "source": [
        "import matplotlib.pyplot as plt\r\n",
        "\r\n",
        "plt.bar(['Accuracy','F1 Score','Recall Score','Precision Score'],\r\n",
        "        [ma_gnb,f1_gnb,recall_gnb,precision_gnb],color=['red','Blue','green','Yellow'])\r\n",
        "plt.plot([ma_gnb,f1_gnb,recall_gnb,precision_gnb],color='black')\r\n",
        "plt.title('Evaluation Metrics for Gaussian Naive Bayes')"
      ],
      "execution_count": 114,
      "outputs": [
        {
          "output_type": "execute_result",
          "data": {
            "text/plain": [
              "Text(0.5, 1.0, 'Evaluation Metrics for Gaussian Naive Bayes')"
            ]
          },
          "metadata": {
            "tags": []
          },
          "execution_count": 114
        },
        {
          "output_type": "display_data",
          "data": {
            "image/png": "[encoded data removed]",
            "text/plain": [
              "<Figure size 432x288 with 1 Axes>"
            ]
          },
          "metadata": {
            "tags": [],
            "needs_background": "light"
          }
        }
      ]
    },
    {
      "cell_type": "code",
      "metadata": {
        "id": "FXmJ0lkEvuRJ"
      },
      "source": [
        "## Boosted Random Forest(Adaboost):\r\n",
        "from sklearn.metrics import recall_score as rs\r\n",
        "from sklearn.metrics import precision_score as ps\r\n",
        "from sklearn.metrics import f1_score as fs\r\n",
        "from sklearn.metrics import balanced_accuracy_score as bas\r\n",
        "from sklearn.metrics import confusion_matrix as cm"
      ],
      "execution_count": 115,
      "outputs": []
    },
    {
      "cell_type": "code",
      "metadata": {
        "id": "arpaptzvwA60"
      },
      "source": [
        "rf = RandomForestClassifier(bootstrap=True, ccp_alpha=0.0, class_weight=None,\r\n",
        "                       criterion='gini', max_depth=2, max_features='auto',\r\n",
        "                       max_leaf_nodes=None, max_samples=None,\r\n",
        "                       min_impurity_decrease=0.0, min_impurity_split=None,\r\n",
        "                       min_samples_leaf=2, min_samples_split=2,\r\n",
        "                       min_weight_fraction_leaf=0.0, n_estimators=100,\r\n",
        "                       n_jobs=None, oob_score=False, random_state=None,\r\n",
        "                       verbose=0, warm_start=False)\r\n",
        "classifier = AdaBoostClassifier(rf,50,0.01,'SAMME.R',10)"
      ],
      "execution_count": 116,
      "outputs": []
    },
    {
      "cell_type": "code",
      "metadata": {
        "id": "tvgZVHfbwA8y"
      },
      "source": [
        "X = tdata[['location','country','gender','age','vis_wuhan','from_wuhan','symptom1',\r\n",
        "           'symptom2','symptom3','symptom4','symptom5','symptom6','diff_sym_hos']]\r\n",
        "Y = tdata['death']"
      ],
      "execution_count": 117,
      "outputs": []
    },
    {
      "cell_type": "code",
      "metadata": {
        "colab": {
          "base_uri": "https://localhost:8080/"
        },
        "id": "M0k-IXK9wA_3",
        "outputId": "006fcd9e-ba88-4b0b-fc5a-b92ddcda4682"
      },
      "source": [
        "X_train, X_test, Y_train, Y_test = train_test_split(X,Y,test_size=0.2,random_state=0)\r\n",
        "classifier.fit(X_train,np.array(Y_train).reshape(Y_train.shape[0],1))"
      ],
      "execution_count": 118,
      "outputs": [
        {
          "output_type": "stream",
          "text": [
            "/usr/local/lib/python3.6/dist-packages/sklearn/utils/validation.py:760: DataConversionWarning: A column-vector y was passed when a 1d array was expected. Please change the shape of y to (n_samples, ), for example using ravel().\n",
            "  y = column_or_1d(y, warn=True)\n"
          ],
          "name": "stderr"
        },
        {
          "output_type": "execute_result",
          "data": {
            "text/plain": [
              "AdaBoostClassifier(algorithm='SAMME.R',\n",
              "                   base_estimator=RandomForestClassifier(bootstrap=True,\n",
              "                                                         ccp_alpha=0.0,\n",
              "                                                         class_weight=None,\n",
              "                                                         criterion='gini',\n",
              "                                                         max_depth=2,\n",
              "                                                         max_features='auto',\n",
              "                                                         max_leaf_nodes=None,\n",
              "                                                         max_samples=None,\n",
              "                                                         min_impurity_decrease=0.0,\n",
              "                                                         min_impurity_split=None,\n",
              "                                                         min_samples_leaf=2,\n",
              "                                                         min_samples_split=2,\n",
              "                                                         min_weight_fraction_leaf=0.0,\n",
              "                                                         n_estimators=100,\n",
              "                                                         n_jobs=None,\n",
              "                                                         oob_score=False,\n",
              "                                                         random_state=None,\n",
              "                                                         verbose=0,\n",
              "                                                         warm_start=False),\n",
              "                   learning_rate=0.01, n_estimators=50, random_state=10)"
            ]
          },
          "metadata": {
            "tags": []
          },
          "execution_count": 118
        }
      ]
    },
    {
      "cell_type": "code",
      "metadata": {
        "id": "xFrmK9zwwBCJ"
      },
      "source": [
        "## Evaluation of the Model:\r\n",
        "\r\n",
        "pred = np.array(classifier.predict(X_test))\r\n",
        "\r\n",
        "recall = rs(Y_test,pred)\r\n",
        "precision = ps(Y_test,pred)\r\n",
        "f1 = fs(Y_test,pred)\r\n",
        "ma = classifier.score(X_test,Y_test)"
      ],
      "execution_count": 119,
      "outputs": []
    },
    {
      "cell_type": "code",
      "metadata": {
        "colab": {
          "base_uri": "https://localhost:8080/"
        },
        "id": "uCvk9x0swBFj",
        "outputId": "8879a1a6-fbd7-4301-a2d1-51ff2771827a"
      },
      "source": [
        "print('*** Evaluation metrics for test dataset ***\\n')\r\n",
        "print('Recall Score: ',recall)\r\n",
        "print('Precision Score: ',precision)\r\n",
        "print('F1 Score: ',f1)\r\n",
        "print('Accuracy: ',ma)\r\n",
        "a = pd.DataFrame(Y_test)\r\n",
        "a['pred']= classifier.predict(X_test)\r\n",
        "print('\\n\\tTable \\n')\r\n",
        "print(a.head())"
      ],
      "execution_count": 120,
      "outputs": [
        {
          "output_type": "stream",
          "text": [
            "*** Evaluation metrics for test dataset ***\n",
            "\n",
            "Recall Score:  0.75\n",
            "Precision Score:  1.0\n",
            "F1 Score:  0.8571428571428571\n",
            "Accuracy:  0.9333333333333333\n",
            "\n",
            "\tTable \n",
            "\n",
            "     death  pred\n",
            "130      0     0\n",
            "203      0     0\n",
            "170      1     0\n",
            "66       0     0\n",
            "181      0     0\n"
          ],
          "name": "stdout"
        }
      ]
    },
    {
      "cell_type": "code",
      "metadata": {
        "colab": {
          "base_uri": "https://localhost:8080/",
          "height": 299
        },
        "id": "lpxeJ_BSta9Y",
        "outputId": "ed684336-3156-417f-9389-f4045c436325"
      },
      "source": [
        "import matplotlib.pyplot as plt\r\n",
        "\r\n",
        "plt.bar(['Accuracy','F1 Score','Recall Score','Precision Score'],\r\n",
        "        [ma,f1,recall,precision],color=['red','blue','green','Yellow'])\r\n",
        "plt.plot([ma,f1,recall,precision],color='black')\r\n",
        "plt.title('Evaluation Metrics for Adaboost')"
      ],
      "execution_count": 130,
      "outputs": [
        {
          "output_type": "execute_result",
          "data": {
            "text/plain": [
              "Text(0.5, 1.0, 'Evaluation Metrics for Adaboost')"
            ]
          },
          "metadata": {
            "tags": []
          },
          "execution_count": 130
        },
        {
          "output_type": "display_data",
          "data": {
            "image/png": "[encoded data removed]",
            "text/plain": [
              "<Figure size 432x288 with 1 Axes>"
            ]
          },
          "metadata": {
            "tags": [],
            "needs_background": "light"
          }
        }
      ]
    },
    {
      "cell_type": "code",
      "metadata": {
        "id": "onzq2mF7vuTW"
      },
      "source": [
        "## Random Forest with Gradient Boosting:\r\n",
        "from sklearn.metrics import recall_score as rs\r\n",
        "from sklearn.metrics import precision_score as ps\r\n",
        "from sklearn.metrics import f1_score as fs\r\n",
        "from sklearn.metrics import balanced_accuracy_score as bas\r\n",
        "from sklearn.metrics import confusion_matrix as cm\r\n",
        "from sklearn.ensemble import RandomForestClassifier,GradientBoostingClassifier"
      ],
      "execution_count": 121,
      "outputs": []
    },
    {
      "cell_type": "code",
      "metadata": {
        "id": "HjIOwdKevuW5"
      },
      "source": [
        "rf = RandomForestClassifier(bootstrap=True, ccp_alpha=0.0, class_weight=None,\r\n",
        "                       criterion='gini', max_depth=2, max_features='auto',\r\n",
        "                       max_leaf_nodes=None, max_samples=None,\r\n",
        "                       min_impurity_decrease=0.0, min_impurity_split=None,\r\n",
        "                       min_samples_leaf=2, min_samples_split=2,\r\n",
        "                       min_weight_fraction_leaf=0.0, n_estimators=100,\r\n",
        "                       n_jobs=None, oob_score=False, random_state=None,\r\n",
        "                       verbose=0, warm_start=False)\r\n",
        "classifier = GradientBoostingClassifier(n_estimators=100)"
      ],
      "execution_count": 122,
      "outputs": []
    },
    {
      "cell_type": "code",
      "metadata": {
        "id": "tAIyxFGLwmRK"
      },
      "source": [
        "X = tdata[['location','country','gender','age','vis_wuhan','from_wuhan',\r\n",
        "           'symptom1','symptom2','symptom3','symptom4','symptom5','symptom6','diff_sym_hos']]\r\n",
        "Y = tdata['death']"
      ],
      "execution_count": 123,
      "outputs": []
    },
    {
      "cell_type": "code",
      "metadata": {
        "colab": {
          "base_uri": "https://localhost:8080/"
        },
        "id": "l5BSgJx3wmdI",
        "outputId": "1992931a-ec54-40b3-b798-8178e9d4b0f1"
      },
      "source": [
        "X_train, X_test, Y_train, Y_test = train_test_split(X,Y,test_size=0.2,random_state=0)\r\n",
        "classifier.fit(X_train,np.array(Y_train).reshape(Y_train.shape[0],1))"
      ],
      "execution_count": 124,
      "outputs": [
        {
          "output_type": "stream",
          "text": [
            "/usr/local/lib/python3.6/dist-packages/sklearn/ensemble/_gb.py:1454: DataConversionWarning: A column-vector y was passed when a 1d array was expected. Please change the shape of y to (n_samples, ), for example using ravel().\n",
            "  y = column_or_1d(y, warn=True)\n"
          ],
          "name": "stderr"
        },
        {
          "output_type": "execute_result",
          "data": {
            "text/plain": [
              "GradientBoostingClassifier(ccp_alpha=0.0, criterion='friedman_mse', init=None,\n",
              "                           learning_rate=0.1, loss='deviance', max_depth=3,\n",
              "                           max_features=None, max_leaf_nodes=None,\n",
              "                           min_impurity_decrease=0.0, min_impurity_split=None,\n",
              "                           min_samples_leaf=1, min_samples_split=2,\n",
              "                           min_weight_fraction_leaf=0.0, n_estimators=100,\n",
              "                           n_iter_no_change=None, presort='deprecated',\n",
              "                           random_state=None, subsample=1.0, tol=0.0001,\n",
              "                           validation_fraction=0.1, verbose=0,\n",
              "                           warm_start=False)"
            ]
          },
          "metadata": {
            "tags": []
          },
          "execution_count": 124
        }
      ]
    },
    {
      "cell_type": "code",
      "metadata": {
        "id": "8rgyW4pNwsWb"
      },
      "source": [
        "## Evaluation of the Model:\r\n",
        "\r\n",
        "pred = np.array(classifier.predict(X_test))\r\n",
        "\r\n",
        "recall_rfgb = rs(Y_test,pred)\r\n",
        "precision_rfgb = ps(Y_test,pred)\r\n",
        "f1_rfgb = fs(Y_test,pred)\r\n",
        "ma_rfgb = classifier.score(X_test,Y_test)"
      ],
      "execution_count": 125,
      "outputs": []
    },
    {
      "cell_type": "code",
      "metadata": {
        "colab": {
          "base_uri": "https://localhost:8080/"
        },
        "id": "Z6jDxcHtw6Xy",
        "outputId": "5426a7b7-e4d3-48bc-9741-f3a08eea965b"
      },
      "source": [
        "print('*** Evaluation metrics for test dataset ***\\n')\r\n",
        "print('Recall Score: ',recall_rfgb)\r\n",
        "print('Precision Score: ',precision_rfgb)\r\n",
        "print('F1 Score: ',f1_rfgb)\r\n",
        "print('Accuracy: ',ma_rfgb)\r\n",
        "a = pd.DataFrame(Y_test)\r\n",
        "a['pred']= classifier.predict(X_test)\r\n",
        "print('\\n\\tTable \\n')\r\n",
        "print(a.head())"
      ],
      "execution_count": 126,
      "outputs": [
        {
          "output_type": "stream",
          "text": [
            "*** Evaluation metrics for test dataset ***\n",
            "\n",
            "Recall Score:  0.8333333333333334\n",
            "Precision Score:  1.0\n",
            "F1 Score:  0.9090909090909091\n",
            "Accuracy:  0.9555555555555556\n",
            "\n",
            "\tTable \n",
            "\n",
            "     death  pred\n",
            "130      0     0\n",
            "203      0     0\n",
            "170      1     1\n",
            "66       0     0\n",
            "181      0     0\n"
          ],
          "name": "stdout"
        }
      ]
    },
    {
      "cell_type": "code",
      "metadata": {
        "colab": {
          "base_uri": "https://localhost:8080/",
          "height": 299
        },
        "id": "QOtt7PPSw6eX",
        "outputId": "1221a809-dbfd-48b9-a728-453d85425c3b"
      },
      "source": [
        "import matplotlib.pyplot as plt\r\n",
        "\r\n",
        "plt.bar(['Accuracy','F1 Score','Recall Score','Precision Score'],\r\n",
        "        [ma_rfgb,f1_rfgb,recall_rfgb,precision_rfgb],color=['red','blue','green','Yellow'])\r\n",
        "plt.plot([ma_rfgb,f1_rfgb,recall_rfgb,precision_rfgb],color='black')\r\n",
        "plt.title('Evaluation Metrics for Gradient Boosting')"
      ],
      "execution_count": 128,
      "outputs": [
        {
          "output_type": "execute_result",
          "data": {
            "text/plain": [
              "Text(0.5, 1.0, 'Evaluation Metrics for Gradient Boosting')"
            ]
          },
          "metadata": {
            "tags": []
          },
          "execution_count": 128
        },
        {
          "output_type": "display_data",
          "data": {
            "image/png": "[encoded data removed]",
            "text/plain": [
              "<Figure size 432x288 with 1 Axes>"
            ]
          },
          "metadata": {
            "tags": [],
            "needs_background": "light"
          }
        }
      ]
    },
    {
      "cell_type": "code",
      "metadata": {
        "colab": {
          "base_uri": "https://localhost:8080/",
          "height": 444
        },
        "id": "K5KC2-hQw6k2",
        "outputId": "dd31ecdc-ed17-4521-c1d3-7d04f995863c"
      },
      "source": [
        "## Comparison of Evaluation Metrics for different Models:\r\n",
        "\r\n",
        "import matplotlib.pyplot as plt\r\n",
        "fig = plt.figure(figsize=(9,7))\r\n",
        "plt.bar(['Logistic Regression','Decision Tree','R.F.(Adaboost)',\r\n",
        "         'SVM','Gaussian NB','R.F.(Grad.boost)'],\r\n",
        "        [f1_lr,f1_dtc,f1_svm,f1_gnb,f1,f1_rfgb],color=['red','lightgreen','darkblue','orange','lightBlue','Yellow'])\r\n",
        "plt.plot(['Logistic Regression','Decision Tree','R.F.(Adaboost)',\r\n",
        "          'SVM','Gaussian NB','R.F.(Grad.boost)'],\r\n",
        "         [f1_lr,f1_dtc,f1,f1_svm,f1_gnb,f1_rfgb],color='purple',marker='D')\r\n",
        "plt.plot(['Logistic Regression','Decision Tree','R.F.(Adaboost)',\r\n",
        "          'SVM','Gaussian NB','R.F.(Grad.boost)'],\r\n",
        "         [ma_lr,ma_dtc,ma,ma_svm,ma_gnb,ma_rfgb],color='red',marker='^')\r\n",
        "plt.plot(['Logistic Regression','Decision Tree','R.F.(Adaboost)',\r\n",
        "          'SVM','Gaussian NB','R.F.(Grad.boost)'],\r\n",
        "         [precision_lr,precision_dtc,precision,precision_svm,precision_gnb,precision_rfgb],color='blue',marker='s')\r\n",
        "plt.plot(['Logistic Regression','Decision Tree','R.F.(Adaboost)',\r\n",
        "          'SVM','Gaussian NB','R.F.(Grad.boost)'],\r\n",
        "         [recall_lr,recall_dtc,recall,recall_svm,recall_gnb,recall_rfgb],color='green',marker='P')\r\n",
        "plt.legend(('F1 Score','Accuracy','Precision','Recall'))\r\n",
        "plt.title('Comparison of different models performance')\r\n",
        "\r\n",
        "plt.show(fig)"
      ],
      "execution_count": 136,
      "outputs": [
        {
          "output_type": "display_data",
          "data": {
            "image/png": "[encoded data removed]",
            "text/plain": [
              "<Figure size 648x504 with 1 Axes>"
            ]
          },
          "metadata": {
            "tags": [],
            "needs_background": "light"
          }
        }
      ]
    }
  ]
}